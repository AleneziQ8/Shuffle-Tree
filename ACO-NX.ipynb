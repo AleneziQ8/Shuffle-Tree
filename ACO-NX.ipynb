{
 "cells": [
  {
   "cell_type": "code",
   "execution_count": 86,
   "metadata": {},
   "outputs": [],
   "source": [
    "import networkx as nx\n",
    "import random as rng\n",
    "import numpy as np\n",
    "import matplotlib.pyplot as plt"
   ]
  },
  {
   "cell_type": "code",
   "execution_count": 87,
   "metadata": {},
   "outputs": [],
   "source": [
    "class Ant:\n",
    "    \n",
    "    def __init__(self,position):\n",
    "        self.pos = position\n",
    "\n",
    "    path = []\n",
    "\n",
    "    def move(self, weighted_edges):\n",
    "        paths = list(filter(lambda edge: edge[0] == self.pos or edge[1] == self.pos, dict(weighted_edges)))\n",
    "        path_weights = (weighted_edges[i] for i in paths)\n",
    "        path = rng.choices(paths, path_weights)[0]\n",
    "        while (path == path[-1] and path != (colony, food) and path != (food,colony)):\n",
    "            path = rng.choices(paths, path_weights)[0]\n",
    "        self.pos = path[0] if path[0] != self.pos else path[1]\n",
    "        self.path.append(path)"
   ]
  },
  {
   "cell_type": "code",
   "execution_count": 88,
   "metadata": {},
   "outputs": [],
   "source": [
    "n = 5 # number of nodes\n",
    "max_coord_size = 100\n",
    "\n",
    "g = nx.complete_graph(n)\n",
    "\n",
    "coords = {}\n",
    "\n",
    "for i in g.nodes():\n",
    "    coords[i] = (rng.uniform(0,max_coord_size),rng.uniform(0,max_coord_size))\n",
    "\n",
    "a = rng.sample(list(g.nodes()),2)\n",
    "\n",
    "colony = a[0]\n",
    "food = a[1]\n",
    "\n",
    "\n",
    "weighted_edges = {}\n",
    "\n",
    "for i in g.edges():\n",
    "    weighted_edges[i] = 1\n",
    "\n",
    "distance_edges = {}\n",
    "\n",
    "for i in g.edges():\n",
    "    distance_edges[i] = np.sqrt(((coords[i[1]])[0]-coords[i[0]][0])**2 + ((coords[i[1]])[1]-coords[i[0]][1])**2)\n",
    "\n",
    "def dist(arr):\n",
    "    dist = 0\n",
    "    for i in arr:\n",
    "        dist += distance_edges[i]\n",
    "    \n",
    "    return dist"
   ]
  },
  {
   "cell_type": "code",
   "execution_count": 89,
   "metadata": {},
   "outputs": [],
   "source": [
    "for i in g.edges():\n",
    "    weighted_edges[i] = 1\n",
    "\n",
    "ant = Ant(colony)\n",
    "\n",
    "K = 1 # pheremone amount\n",
    "V = 0.3 # evaporation rate (scales down pheremone amount by (1-V)*pheremone)\n",
    "\n",
    "ant_num = 5 # number of ants per iteration\n",
    "iteration_count = 10 # number of iterations \n",
    "\n",
    "paths = []\n",
    "\n",
    "pos_str =str(colony) + \"\"\n",
    "\n",
    "for i in range(0,iteration_count):\n",
    "    \n",
    "    paths = []\n",
    "\n",
    "    for i in range(0,ant_num):\n",
    "        ant.path = []\n",
    "        has_food = False\n",
    "\n",
    "        while has_food == False:\n",
    "            ant.move(weighted_edges)\n",
    "            pos_str += str(ant.pos)\n",
    "            if ant.pos == food:\n",
    "                has_food = True\n",
    "        \n",
    "        while has_food == True:\n",
    "            ant.move(weighted_edges)\n",
    "            pos_str += str(ant.pos)\n",
    "            if ant.pos == colony:\n",
    "                has_food = False\n",
    "\n",
    "        \n",
    "        paths.append(ant.path)\n",
    "\n",
    "    for i in weighted_edges: # evaporate pheremones\n",
    "        weighted_edges[i] = (1-V)*weighted_edges[i]\n",
    "    \n",
    "    for i in paths: # add pheremones from ants\n",
    "        for j in i:\n",
    "            weighted_edges[j] += K/distance_edges[j]"
   ]
  },
  {
   "cell_type": "code",
   "execution_count": 90,
   "metadata": {},
   "outputs": [
    {
     "name": "stdout",
     "output_type": "stream",
     "text": [
      "max pheremone: 3.860817719073628\n",
      "last 20 positions of ant: 3421042424242404313\n"
     ]
    },
    {
     "data": {
      "image/png": "[encoded data removed]",
      "text/plain": [
       "<Figure size 640x480 with 1 Axes>"
      ]
     },
     "metadata": {},
     "output_type": "display_data"
    }
   ],
   "source": [
    "max_weight = max(list(weighted_edges.values()))\n",
    "print(\"max pheremone: \" + str(max_weight))\n",
    "print(\"last 20 positions of ant: \" + pos_str[-20:-1:1])\n",
    "\n",
    "x =[]\n",
    "for i in coords.values():\n",
    "    x.append(i[0])\n",
    "\n",
    "\n",
    "y =[]\n",
    "for i in coords.values():\n",
    "    y.append(i[1])\n",
    "\n",
    "plt.scatter(x,y, color='black')\n",
    "plt.scatter(coords[colony][0],coords[colony][1], color='gold')\n",
    "plt.scatter(coords[food][0],coords[food][1], color='green')\n",
    "\n",
    "for i in range(0,len(x)):\n",
    "    plt.text(x[i] * (1 + 0.005), y[i] * (1 + 0.01) , i, fontsize=12)\n",
    "\n",
    "for i in range(0,len(x)):\n",
    "    for j in range(i+1,len(y)):\n",
    "        plt.plot([x[i],x[j]], [y[i], y[j]], color='r', alpha = weighted_edges[(i,j)]/max_weight)\n"
   ]
  }
 ],
 "metadata": {
  "kernelspec": {
   "display_name": "Python 3.10.7 64-bit",
   "language": "python",
   "name": "python3"
  },
  "language_info": {
   "codemirror_mode": {
    "name": "ipython",
    "version": 3
   },
   "file_extension": ".py",
   "mimetype": "text/x-python",
   "name": "python",
   "nbconvert_exporter": "python",
   "pygments_lexer": "ipython3",
   "version": "3.10.8"
  },
  "orig_nbformat": 4,
  "vscode": {
   "interpreter": {
    "hash": "e7370f93d1d0cde622a1f8e1c04877d8463912d04d973331ad4851f04de6915a"
   }
  }
 },
 "nbformat": 4,
 "nbformat_minor": 2
}
