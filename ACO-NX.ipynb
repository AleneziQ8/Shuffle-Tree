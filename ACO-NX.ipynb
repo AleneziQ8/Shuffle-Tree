{
 "cells": [
  {
   "cell_type": "code",
   "execution_count": 4,
   "metadata": {},
   "outputs": [],
   "source": [
    "import networkx as nx\n",
    "import random as rng\n",
    "import numpy as np\n",
    "import matplotlib.pyplot as plt\n",
    "import ipywidgets as widgets\n",
    "# import mathjax as mjax"
   ]
  },
  {
   "cell_type": "code",
   "execution_count": 5,
   "metadata": {},
   "outputs": [],
   "source": [
    "class Ant:\n",
    "    \n",
    "    def __init__(self,position):\n",
    "        self.pos = position\n",
    "\n",
    "    path = []\n",
    "\n",
    "    def edge_conditions(self,edge):\n",
    "        if (edge[0] != self.pos and edge[1] != self.pos):\n",
    "            return False\n",
    "\n",
    "        elif self.path == []:\n",
    "            return True\n",
    "        \n",
    "        elif (edge in self.path):\n",
    "            return False\n",
    "        \n",
    "        elif (self.path != []):\n",
    "            # potential destination coordinate of ant from edge\n",
    "            dest = edge[0] if edge[0] != ant.pos else edge[1]\n",
    "            if dest != origin:\n",
    "                for i in self.path:\n",
    "                    if (dest in i):\n",
    "                        return False\n",
    "            else:\n",
    "                for j in range(1,n):\n",
    "                    j_found = False\n",
    "                    for k in self.path:\n",
    "                        if (j_found == False and j in k):\n",
    "                            j_found = True\n",
    "                            break\n",
    "                    if j_found == False:\n",
    "                        return False\n",
    "                \n",
    "            return True\n",
    "\n",
    "    def move(self, weighted_edges):\n",
    "        paths = list(filter(self.edge_conditions, weighted_edges.keys()))\n",
    "        path_weights = list(weighted_edges[i] for i in paths)\n",
    "        path = rng.choices(paths, path_weights)[0]\n",
    "        self.pos = path[0] if path[0] != self.pos else path[1]\n",
    "        self.path.append(path)"
   ]
  },
  {
   "cell_type": "code",
   "execution_count": 7,
   "metadata": {},
   "outputs": [],
   "source": [
    "max_coord_size = 100 # maximum coordinate size"
   ]
  },
  {
   "cell_type": "code",
   "execution_count": 80,
   "metadata": {},
   "outputs": [],
   "source": [
    "N = U = widgets.IntSlider(min=0,max=100,step=1, value=5, description = \"n (number of nodes)\")\n",
    "M = widgets.FloatSlider(min=0.0,max=100.0,step=1, value=10, description = \"K (pheremone)\")\n",
    "U = widgets.FloatSlider(min=0.0,max=1.0,step=0.01, value=0.5, description = \"V (evaporation rate\")"
   ]
  },
  {
   "cell_type": "code",
   "execution_count": 120,
   "metadata": {},
   "outputs": [],
   "source": [
    "n=N.value\n",
    "g = nx.complete_graph(n)\n",
    "\n",
    "coords = {}\n",
    "\n",
    "for i in g.nodes():\n",
    "    coords[i] = (rng.uniform(0,max_coord_size),rng.uniform(0,max_coord_size))\n",
    "\n",
    "origin = 0\n",
    "    \n",
    "weighted_edges = {}\n",
    "\n",
    "for i in g.edges():\n",
    "    weighted_edges[i] = 1\n",
    "\n",
    "distance_edges = {}\n",
    "\n",
    "for i in g.edges():\n",
    "    distance_edges[i] = np.sqrt(((coords[i[1]])[0]-coords[i[0]][0])**2 + ((coords[i[1]])[1]-coords[i[0]][1])**2)\n",
    "\n",
    "def dist(arr):\n",
    "    dist = 0\n",
    "    for i in arr:\n",
    "        dist += distance_edges[i]\n",
    "    \n",
    "    return dist"
   ]
  },
  {
   "cell_type": "code",
   "execution_count": 121,
   "metadata": {},
   "outputs": [
    {
     "name": "stdout",
     "output_type": "stream",
     "text": [
      "(Iteration 0) Total distance traveled: 1035.9256688418416\n",
      "(Iteration 1) Total distance traveled: 1023.7798621804761\n",
      "(Iteration 2) Total distance traveled: 958.8027854080872\n",
      "(Iteration 3) Total distance traveled: 833.0090612272872\n",
      "(Iteration 4) Total distance traveled: 919.7447832628178\n",
      "(Iteration 5) Total distance traveled: 826.5126711351332\n",
      "(Iteration 6) Total distance traveled: 826.512671135133\n",
      "(Iteration 7) Total distance traveled: 826.5126711351332\n",
      "(Iteration 8) Total distance traveled: 826.5126711351332\n",
      "(Iteration 9) Total distance traveled: 826.5126711351332\n"
     ]
    }
   ],
   "source": [
    "V=U.value\n",
    "K = M.value\n",
    "# resets weights\n",
    "for i in g.edges():\n",
    "    weighted_edges[i] = 1\n",
    "\n",
    "ant = Ant(origin)\n",
    "\n",
    "# ant_num = 1 # number of ants per iteration\n",
    "iteration_count = 10 # number of iterations \n",
    "\n",
    "paths = []\n",
    "\n",
    "fitness = 1e10\n",
    "\n",
    "for i in range(0,iteration_count):\n",
    "    \n",
    "    paths = []\n",
    "\n",
    "    solution_found = False\n",
    "\n",
    "    loop_counter = 0\n",
    "\n",
    "    while (solution_found == False and loop_counter < 10):\n",
    "        ant.path = []\n",
    "        paths = []\n",
    "        ant.move(weighted_edges)    \n",
    "        paths.append(ant.path)\n",
    "\n",
    "        while (ant.pos != origin):\n",
    "            ant.move(weighted_edges)\n",
    "\n",
    "        total_distance = sum(distance_edges[i] for i in paths[0])\n",
    "\n",
    "        if total_distance < fitness:\n",
    "            fitness = total_distance\n",
    "            solution_found = True\n",
    "                \n",
    "            for j in paths: # add pheremones from ants\n",
    "                for k in j:\n",
    "                    weighted_edges[k] += K/distance_edges[k]\n",
    "            \n",
    "            loop_counter = 0\n",
    "\n",
    "        for j in weighted_edges: # evaporate pheremones\n",
    "            weighted_edges[j] = (1-V)*weighted_edges[j]\n",
    "            if weighted_edges[j] == 0:\n",
    "                weighted_edges[j] = 1e-12\n",
    "\n",
    "        loop_counter += 1\n",
    "\n",
    "\n",
    "    print(\"(Iteration \" + str(i) + \") Total distance traveled: \" + str(total_distance))\n"
   ]
  },
  {
   "cell_type": "code",
   "execution_count": 122,
   "metadata": {},
   "outputs": [
    {
     "name": "stdout",
     "output_type": "stream",
     "text": [
      "total distance traveled: 826.5126711351332\n",
      "Christofides algorithm distance traveled: 1107.8324494072253\n",
      "Simulated Annealing algorithm distance traveled: 1120.363771068866\n",
      "min pheremone: 4.318114567396421e-09\n",
      "max pheremone: 0.0004457644844515524\n"
     ]
    },
    {
     "data": {
      "application/vnd.jupyter.widget-view+json": {
       "model_id": "c2ea065ad81849029fe7719fc39e8abf",
       "version_major": 2,
       "version_minor": 0
      },
      "text/plain": [
       "IntSlider(value=18, description='n (number of nodes)')"
      ]
     },
     "metadata": {},
     "output_type": "display_data"
    },
    {
     "data": {
      "application/vnd.jupyter.widget-view+json": {
       "model_id": "2ccfcfad830948bf8ff723d4dc218abe",
       "version_major": 2,
       "version_minor": 0
      },
      "text/plain": [
       "FloatSlider(value=100.0, description='K (pheremone)', step=1.0)"
      ]
     },
     "metadata": {},
     "output_type": "display_data"
    },
    {
     "data": {
      "application/vnd.jupyter.widget-view+json": {
       "model_id": "a7fd162cd8a142a4a19f267513cb8518",
       "version_major": 2,
       "version_minor": 0
      },
      "text/plain": [
       "FloatSlider(value=0.3, description='V (evaporation rate', max=1.0, step=0.01)"
      ]
     },
     "metadata": {},
     "output_type": "display_data"
    },
    {
     "data": {
      "image/png": "[encoded data removed]",
      "text/plain": [
       "<Figure size 640x480 with 1 Axes>"
      ]
     },
     "metadata": {},
     "output_type": "display_data"
    }
   ],
   "source": [
    "for i in g.edges:\n",
    "    g.add_edge(i[0],i[1],weight = weighted_edges[i])\n",
    "\n",
    "g_christofides = nx.approximation.christofides(g)\n",
    "\n",
    "g_christofides_edges = []\n",
    "for i in range(0,len(g_christofides)-1):\n",
    "    \n",
    "    if g_christofides[i] > g_christofides[i+1]:\n",
    "        g_christofides_edges.append((g_christofides[i+1],g_christofides[i]))\n",
    "\n",
    "    else:\n",
    "        g_christofides_edges.append((g_christofides[i],g_christofides[i+1]))\n",
    "\n",
    "christofides_distance = sum(distance_edges[i] for i in g_christofides_edges)\n",
    "\n",
    "g_sa = nx.approximation.simulated_annealing_tsp(g, nx.approximation.greedy_tsp(g))\n",
    "\n",
    "g_sa_edges = []\n",
    "for i in range(0,len(g_sa)-1):\n",
    "    \n",
    "    if g_sa[i] > g_sa[i+1]:\n",
    "        g_sa_edges.append((g_sa[i+1],g_sa[i]))\n",
    "\n",
    "    else:\n",
    "        g_sa_edges.append((g_sa[i],g_sa[i+1]))\n",
    "\n",
    "sa_distance = sum(distance_edges[i] for i in g_sa_edges)\n",
    "\n",
    "max_weight = max(list(weighted_edges.values()))\n",
    "min_weight = min(list(weighted_edges.values()))\n",
    "total_distance = sum(distance_edges[i] for i in paths[0])\n",
    "\n",
    "print(\"total distance traveled: \" + str(total_distance))\n",
    "print(\"Christofides algorithm distance traveled: \" + str(christofides_distance))\n",
    "print(\"Simulated Annealing algorithm distance traveled: \" + str(sa_distance))\n",
    "print(\"min pheremone: \" + str(min_weight))\n",
    "print(\"max pheremone: \" + str(max_weight))\n",
    "\n",
    "x =[]\n",
    "for i in coords.values():\n",
    "    x.append(i[0])\n",
    "\n",
    "\n",
    "y =[]\n",
    "for i in coords.values():\n",
    "    y.append(i[1])\n",
    "\n",
    "plt.scatter(x,y, color='black')\n",
    "plt.scatter(coords[origin][0],coords[origin][1], color='green')\n",
    "\n",
    "for i in range(0,len(x)):\n",
    "    plt.text(x[i] * (1 + 0.005), y[i] * (1 + 0.01) , i, fontsize=12)\n",
    "\n",
    "\n",
    "for i in paths[0]:\n",
    "    plt.plot([coords[i[0]][0],coords[i[1]][0]], [coords[i[0]][1], coords[i[1]][1]], color='orangered')\n",
    "\n",
    "# for i in g_christofides_edges:\n",
    "#     plt.plot([coords[i[0]][0],coords[i[1]][0]], [coords[i[0]][1], coords[i[1]][1]], color='c')\n",
    "\n",
    "# for i in g_sa_edges:\n",
    "#     plt.plot([coords[i[0]][0],coords[i[1]][0]], [coords[i[0]][1], coords[i[1]][1]], color='r')\n",
    "\n",
    "display(N)\n",
    "display(M)\n",
    "display(U)"
   ]
  }
 ],
 "metadata": {
  "kernelspec": {
   "display_name": "Python 3 (ipykernel)",
   "language": "python",
   "name": "python3"
  },
  "language_info": {
   "codemirror_mode": {
    "name": "ipython",
    "version": 3
   },
   "file_extension": ".py",
   "mimetype": "text/x-python",
   "name": "python",
   "nbconvert_exporter": "python",
   "pygments_lexer": "ipython3",
   "version": "3.10.8"
  },
  "vscode": {
   "interpreter": {
    "hash": "e7370f93d1d0cde622a1f8e1c04877d8463912d04d973331ad4851f04de6915a"
   }
  }
 },
 "nbformat": 4,
 "nbformat_minor": 2
}
