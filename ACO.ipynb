{
 "cells": [
  {
   "cell_type": "code",
   "execution_count": 99,
   "id": "41cff63d",
   "metadata": {},
   "outputs": [],
   "source": [
    "# library loads and function definitions\n",
    "\n",
    "import numpy as np\n",
    "import random as rng\n",
    "\n",
    "# generate_nodes: input n -> output list like [0,1,...,n]\n",
    "def generate_nodes(n):\n",
    "    return list(range(0,n))\n",
    "\n",
    "def generate_edges(nodes):\n",
    "    edges = []\n",
    "    for i in nodes:\n",
    "        for j in nodes:\n",
    "            if i < j:\n",
    "                edges.append(str(i)+str(j))\n",
    "                edges.append(str(j)+str(i))\n",
    "    return edges\n",
    "\n",
    "# generate_distances: input a list of edges (both directions pairwise, \"01\" followed by \"10\" or\n",
    "# vice versa) and integers min_dist and max_dist -> \n",
    "# output dictionary with inputs as keys, and random values uniformly generated between min_dist and \n",
    "# max_dist assigned to each key, then assign the same value to each key where the string is reversed\n",
    "def generate_distances(edges, min_dist, max_dist):\n",
    "    graph = {}\n",
    "    trimmed_edges = edges[0::2]\n",
    "    for i in trimmed_edges:\n",
    "        graph[i] = rng.uniform(min_dist,max_dist)\n",
    "        graph[i[::-1]] = graph[i]\n",
    "    \n",
    "    return graph\n",
    "\n",
    "def generate_probabilities(edges,)\n",
    "\n",
    "def assign_labels(nodes):\n",
    "    places = {}\n",
    "    places[\"colony\"] = nodes[rng.randint(0,nodes[-1])]\n",
    "    places[\"food\"] = nodes[rng.randint(0,nodes[-1])]\n",
    "    \n",
    "    while places[\"food\"] == places[\"colony\"]:\n",
    "        places[\"food\"] = nodes[rng.randint(0,nodes[-1])]\n",
    "        \n",
    "    return places\n",
    "\n"
   ]
  },
  {
   "cell_type": "code",
   "execution_count": 116,
   "id": "26175891",
   "metadata": {},
   "outputs": [
    {
     "name": "stdout",
     "output_type": "stream",
     "text": [
      "{'colony': 5, 'food': 2}\n"
     ]
    }
   ],
   "source": [
    "nodes = generate_nodes(6)\n",
    "places = assign_labels(nodes)\n",
    "edges = generate_edges(nodes)\n",
    "distances = generate_distances(edges, 0, 25)\n",
    "\n",
    "print(places)\n",
    "# check if value for \"xy\" == \"yx\" for any valid x and y\n",
    "# print(graph[\"01\"] == graph[\"10\"])"
   ]
  },
  {
   "cell_type": "code",
   "execution_count": null,
   "id": "3e66239b",
   "metadata": {},
   "outputs": [],
   "source": []
  }
 ],
 "metadata": {
  "kernelspec": {
   "display_name": "Python 3 (ipykernel)",
   "language": "python",
   "name": "python3"
  },
  "language_info": {
   "codemirror_mode": {
    "name": "ipython",
    "version": 3
   },
   "file_extension": ".py",
   "mimetype": "text/x-python",
   "name": "python",
   "nbconvert_exporter": "python",
   "pygments_lexer": "ipython3",
   "version": "3.10.7"
  }
 },
 "nbformat": 4,
 "nbformat_minor": 5
}
